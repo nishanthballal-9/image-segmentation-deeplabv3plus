{
 "cells": [
  {
   "cell_type": "code",
   "execution_count": 1,
   "metadata": {},
   "outputs": [],
   "source": [
    "import tensorflow as tf"
   ]
  },
  {
   "cell_type": "code",
   "execution_count": 12,
   "metadata": {},
   "outputs": [],
   "source": [
    "colors_list=[(0,0,0), (255,0,0), (255,255,0)]"
   ]
  },
  {
   "cell_type": "code",
   "execution_count": 31,
   "metadata": {},
   "outputs": [],
   "source": [
    "def dice_coef(y_true, y_pred):\n",
    "    intersection = tf.reduce_sum(y_true*y_pred)\n",
    "    return (2. * intersection + 1.)/(tf.reduce_sum(y_true)+tf.reduce_sum(y_pred)+1)"
   ]
  },
  {
   "cell_type": "markdown",
   "metadata": {},
   "source": [
    "### Image 1"
   ]
  },
  {
   "cell_type": "markdown",
   "metadata": {},
   "source": [
    "### Overall"
   ]
  },
  {
   "cell_type": "code",
   "execution_count": 29,
   "metadata": {},
   "outputs": [],
   "source": [
    "y_true = tf.io.read_file('Valid_Mask/7105b8ee8d4c00c513b334fdfdcd6c49_mask.png')\n",
    "y_true = tf.image.decode_png(y_true, channels=3)\n",
    "one_hot_map = []\n",
    "for color in colors_list:\n",
    "    class_map = tf.reduce_all(tf.equal(y_true,color), axis=-1)\n",
    "    one_hot_map.append(class_map)\n",
    "#one_hot_map = one_hot_map[2]\n",
    "one_hot_map = tf.stack(one_hot_map, axis=-1)\n",
    "y_true = tf.cast(one_hot_map, tf.float32)"
   ]
  },
  {
   "cell_type": "code",
   "execution_count": 30,
   "metadata": {},
   "outputs": [],
   "source": [
    "y_pred = tf.io.read_file('Val_Results_reconstructed_exp4/7105b8ee8d4c00c513b334fdfdcd6c49.png')\n",
    "y_pred = tf.image.decode_png(y_pred, channels=3)\n",
    "one_hot_map = []\n",
    "for color in colors_list:\n",
    "    class_map = tf.reduce_all(tf.equal(y_pred,color), axis=-1)\n",
    "    one_hot_map.append(class_map)\n",
    "#one_hot_map = one_hot_map[2]\n",
    "one_hot_map = tf.stack(one_hot_map, axis=-1)\n",
    "y_pred = tf.cast(one_hot_map, tf.float32)"
   ]
  },
  {
   "cell_type": "code",
   "execution_count": 32,
   "metadata": {},
   "outputs": [
    {
     "data": {
      "text/plain": [
       "<tf.Tensor: shape=(), dtype=float32, numpy=0.9673307>"
      ]
     },
     "execution_count": 32,
     "metadata": {},
     "output_type": "execute_result"
    }
   ],
   "source": [
    "dice_coef(y_true, y_pred)"
   ]
  },
  {
   "cell_type": "markdown",
   "metadata": {},
   "source": [
    "### Black"
   ]
  },
  {
   "cell_type": "code",
   "execution_count": 33,
   "metadata": {},
   "outputs": [],
   "source": [
    "y_true = tf.io.read_file('Valid_Mask/7105b8ee8d4c00c513b334fdfdcd6c49_mask.png')\n",
    "y_true = tf.image.decode_png(y_true, channels=3)\n",
    "one_hot_map = []\n",
    "for color in colors_list:\n",
    "    class_map = tf.reduce_all(tf.equal(y_true,color), axis=-1)\n",
    "    one_hot_map.append(class_map)\n",
    "one_hot_map = one_hot_map[0]\n",
    "one_hot_map = tf.stack(one_hot_map, axis=-1)\n",
    "y_true = tf.cast(one_hot_map, tf.float32)"
   ]
  },
  {
   "cell_type": "code",
   "execution_count": 34,
   "metadata": {},
   "outputs": [],
   "source": [
    "y_pred = tf.io.read_file('Val_Results_reconstructed_exp4/7105b8ee8d4c00c513b334fdfdcd6c49.png')\n",
    "y_pred = tf.image.decode_png(y_pred, channels=3)\n",
    "one_hot_map = []\n",
    "for color in colors_list:\n",
    "    class_map = tf.reduce_all(tf.equal(y_pred,color), axis=-1)\n",
    "    one_hot_map.append(class_map)\n",
    "one_hot_map = one_hot_map[0]\n",
    "one_hot_map = tf.stack(one_hot_map, axis=-1)\n",
    "y_pred = tf.cast(one_hot_map, tf.float32)"
   ]
  },
  {
   "cell_type": "code",
   "execution_count": 35,
   "metadata": {},
   "outputs": [
    {
     "data": {
      "text/plain": [
       "<tf.Tensor: shape=(), dtype=float32, numpy=0.98761225>"
      ]
     },
     "execution_count": 35,
     "metadata": {},
     "output_type": "execute_result"
    }
   ],
   "source": [
    "dice_coef(y_true, y_pred)"
   ]
  },
  {
   "cell_type": "markdown",
   "metadata": {},
   "source": [
    "### Red"
   ]
  },
  {
   "cell_type": "code",
   "execution_count": 36,
   "metadata": {},
   "outputs": [],
   "source": [
    "y_true = tf.io.read_file('Valid_Mask/7105b8ee8d4c00c513b334fdfdcd6c49_mask.png')\n",
    "y_true = tf.image.decode_png(y_true, channels=3)\n",
    "one_hot_map = []\n",
    "for color in colors_list:\n",
    "    class_map = tf.reduce_all(tf.equal(y_true,color), axis=-1)\n",
    "    one_hot_map.append(class_map)\n",
    "one_hot_map = one_hot_map[1]\n",
    "one_hot_map = tf.stack(one_hot_map, axis=-1)\n",
    "y_true = tf.cast(one_hot_map, tf.float32)"
   ]
  },
  {
   "cell_type": "code",
   "execution_count": 37,
   "metadata": {},
   "outputs": [],
   "source": [
    "y_pred = tf.io.read_file('Val_Results_reconstructed_exp4/7105b8ee8d4c00c513b334fdfdcd6c49.png')\n",
    "y_pred = tf.image.decode_png(y_pred, channels=3)\n",
    "one_hot_map = []\n",
    "for color in colors_list:\n",
    "    class_map = tf.reduce_all(tf.equal(y_pred,color), axis=-1)\n",
    "    one_hot_map.append(class_map)\n",
    "one_hot_map = one_hot_map[1]\n",
    "one_hot_map = tf.stack(one_hot_map, axis=-1)\n",
    "y_pred = tf.cast(one_hot_map, tf.float32)"
   ]
  },
  {
   "cell_type": "code",
   "execution_count": 38,
   "metadata": {},
   "outputs": [
    {
     "data": {
      "text/plain": [
       "<tf.Tensor: shape=(), dtype=float32, numpy=0.8207178>"
      ]
     },
     "execution_count": 38,
     "metadata": {},
     "output_type": "execute_result"
    }
   ],
   "source": [
    "dice_coef(y_true, y_pred)"
   ]
  },
  {
   "cell_type": "markdown",
   "metadata": {},
   "source": [
    "### Yellow"
   ]
  },
  {
   "cell_type": "code",
   "execution_count": 39,
   "metadata": {},
   "outputs": [],
   "source": [
    "y_true = tf.io.read_file('Valid_Mask/7105b8ee8d4c00c513b334fdfdcd6c49_mask.png')\n",
    "y_true = tf.image.decode_png(y_true, channels=3)\n",
    "one_hot_map = []\n",
    "for color in colors_list:\n",
    "    class_map = tf.reduce_all(tf.equal(y_true,color), axis=-1)\n",
    "    one_hot_map.append(class_map)\n",
    "one_hot_map = one_hot_map[2]\n",
    "one_hot_map = tf.stack(one_hot_map, axis=-1)\n",
    "y_true = tf.cast(one_hot_map, tf.float32)"
   ]
  },
  {
   "cell_type": "code",
   "execution_count": 40,
   "metadata": {},
   "outputs": [],
   "source": [
    "y_pred = tf.io.read_file('Val_Results_reconstructed_exp4/7105b8ee8d4c00c513b334fdfdcd6c49.png')\n",
    "y_pred = tf.image.decode_png(y_pred, channels=3)\n",
    "one_hot_map = []\n",
    "for color in colors_list:\n",
    "    class_map = tf.reduce_all(tf.equal(y_pred,color), axis=-1)\n",
    "    one_hot_map.append(class_map)\n",
    "one_hot_map = one_hot_map[2]\n",
    "one_hot_map = tf.stack(one_hot_map, axis=-1)\n",
    "y_pred = tf.cast(one_hot_map, tf.float32)"
   ]
  },
  {
   "cell_type": "code",
   "execution_count": 41,
   "metadata": {},
   "outputs": [
    {
     "data": {
      "text/plain": [
       "<tf.Tensor: shape=(), dtype=float32, numpy=0.90391994>"
      ]
     },
     "execution_count": 41,
     "metadata": {},
     "output_type": "execute_result"
    }
   ],
   "source": [
    "dice_coef(y_true, y_pred)"
   ]
  },
  {
   "cell_type": "markdown",
   "metadata": {},
   "source": [
    "### Image 2"
   ]
  },
  {
   "cell_type": "markdown",
   "metadata": {},
   "source": [
    "### Overall"
   ]
  },
  {
   "cell_type": "code",
   "execution_count": 42,
   "metadata": {},
   "outputs": [],
   "source": [
    "y_true = tf.io.read_file('Valid_Mask/d0cf594c5106fb84e894c0b12013f367_mask.png')\n",
    "y_true = tf.image.decode_png(y_true, channels=3)\n",
    "one_hot_map = []\n",
    "for color in colors_list:\n",
    "    class_map = tf.reduce_all(tf.equal(y_true,color), axis=-1)\n",
    "    one_hot_map.append(class_map)\n",
    "#one_hot_map = one_hot_map[2]\n",
    "one_hot_map = tf.stack(one_hot_map, axis=-1)\n",
    "y_true = tf.cast(one_hot_map, tf.float32)"
   ]
  },
  {
   "cell_type": "code",
   "execution_count": 45,
   "metadata": {},
   "outputs": [],
   "source": [
    "y_pred = tf.io.read_file('Val_Results_reconstructed_exp5/d0cf594c5106fb84e894c0b12013f367.png')\n",
    "y_pred = tf.image.decode_png(y_pred, channels=3)\n",
    "one_hot_map = []\n",
    "for color in colors_list:\n",
    "    class_map = tf.reduce_all(tf.equal(y_pred,color), axis=-1)\n",
    "    one_hot_map.append(class_map)\n",
    "#one_hot_map = one_hot_map[2]\n",
    "one_hot_map = tf.stack(one_hot_map, axis=-1)\n",
    "y_pred = tf.cast(one_hot_map, tf.float32)"
   ]
  },
  {
   "cell_type": "code",
   "execution_count": 46,
   "metadata": {},
   "outputs": [
    {
     "data": {
      "text/plain": [
       "<tf.Tensor: shape=(), dtype=float32, numpy=0.9404538>"
      ]
     },
     "execution_count": 46,
     "metadata": {},
     "output_type": "execute_result"
    }
   ],
   "source": [
    "dice_coef(y_true, y_pred)"
   ]
  },
  {
   "cell_type": "markdown",
   "metadata": {},
   "source": [
    "### Black"
   ]
  },
  {
   "cell_type": "code",
   "execution_count": 47,
   "metadata": {},
   "outputs": [],
   "source": [
    "y_true = tf.io.read_file('Valid_Mask/d0cf594c5106fb84e894c0b12013f367_mask.png')\n",
    "y_true = tf.image.decode_png(y_true, channels=3)\n",
    "one_hot_map = []\n",
    "for color in colors_list:\n",
    "    class_map = tf.reduce_all(tf.equal(y_true,color), axis=-1)\n",
    "    one_hot_map.append(class_map)\n",
    "one_hot_map = one_hot_map[0]\n",
    "one_hot_map = tf.stack(one_hot_map, axis=-1)\n",
    "y_true = tf.cast(one_hot_map, tf.float32)"
   ]
  },
  {
   "cell_type": "code",
   "execution_count": 48,
   "metadata": {},
   "outputs": [],
   "source": [
    "y_pred = tf.io.read_file('Val_Results_reconstructed_exp5/d0cf594c5106fb84e894c0b12013f367.png')\n",
    "y_pred = tf.image.decode_png(y_pred, channels=3)\n",
    "one_hot_map = []\n",
    "for color in colors_list:\n",
    "    class_map = tf.reduce_all(tf.equal(y_pred,color), axis=-1)\n",
    "    one_hot_map.append(class_map)\n",
    "one_hot_map = one_hot_map[0]\n",
    "one_hot_map = tf.stack(one_hot_map, axis=-1)\n",
    "y_pred = tf.cast(one_hot_map, tf.float32)"
   ]
  },
  {
   "cell_type": "code",
   "execution_count": 49,
   "metadata": {},
   "outputs": [
    {
     "data": {
      "text/plain": [
       "<tf.Tensor: shape=(), dtype=float32, numpy=0.96817684>"
      ]
     },
     "execution_count": 49,
     "metadata": {},
     "output_type": "execute_result"
    }
   ],
   "source": [
    "dice_coef(y_true, y_pred)"
   ]
  },
  {
   "cell_type": "markdown",
   "metadata": {},
   "source": [
    "### Red"
   ]
  },
  {
   "cell_type": "code",
   "execution_count": 50,
   "metadata": {},
   "outputs": [],
   "source": [
    "y_true = tf.io.read_file('Valid_Mask/d0cf594c5106fb84e894c0b12013f367_mask.png')\n",
    "y_true = tf.image.decode_png(y_true, channels=3)\n",
    "one_hot_map = []\n",
    "for color in colors_list:\n",
    "    class_map = tf.reduce_all(tf.equal(y_true,color), axis=-1)\n",
    "    one_hot_map.append(class_map)\n",
    "one_hot_map = one_hot_map[1]\n",
    "one_hot_map = tf.stack(one_hot_map, axis=-1)\n",
    "y_true = tf.cast(one_hot_map, tf.float32)"
   ]
  },
  {
   "cell_type": "code",
   "execution_count": 51,
   "metadata": {},
   "outputs": [],
   "source": [
    "y_pred = tf.io.read_file('Val_Results_reconstructed_exp5/d0cf594c5106fb84e894c0b12013f367.png')\n",
    "y_pred = tf.image.decode_png(y_pred, channels=3)\n",
    "one_hot_map = []\n",
    "for color in colors_list:\n",
    "    class_map = tf.reduce_all(tf.equal(y_pred,color), axis=-1)\n",
    "    one_hot_map.append(class_map)\n",
    "one_hot_map = one_hot_map[1]\n",
    "one_hot_map = tf.stack(one_hot_map, axis=-1)\n",
    "y_pred = tf.cast(one_hot_map, tf.float32)"
   ]
  },
  {
   "cell_type": "code",
   "execution_count": 52,
   "metadata": {},
   "outputs": [
    {
     "data": {
      "text/plain": [
       "<tf.Tensor: shape=(), dtype=float32, numpy=0.93551767>"
      ]
     },
     "execution_count": 52,
     "metadata": {},
     "output_type": "execute_result"
    }
   ],
   "source": [
    "dice_coef(y_true, y_pred)"
   ]
  },
  {
   "cell_type": "markdown",
   "metadata": {},
   "source": [
    "### Yellow"
   ]
  },
  {
   "cell_type": "code",
   "execution_count": 53,
   "metadata": {},
   "outputs": [],
   "source": [
    "y_true = tf.io.read_file('Valid_Mask/d0cf594c5106fb84e894c0b12013f367_mask.png')\n",
    "y_true = tf.image.decode_png(y_true, channels=3)\n",
    "one_hot_map = []\n",
    "for color in colors_list:\n",
    "    class_map = tf.reduce_all(tf.equal(y_true,color), axis=-1)\n",
    "    one_hot_map.append(class_map)\n",
    "one_hot_map = one_hot_map[2]\n",
    "one_hot_map = tf.stack(one_hot_map, axis=-1)\n",
    "y_true = tf.cast(one_hot_map, tf.float32)"
   ]
  },
  {
   "cell_type": "code",
   "execution_count": 54,
   "metadata": {},
   "outputs": [],
   "source": [
    "y_pred = tf.io.read_file('Val_Results_reconstructed_exp5/d0cf594c5106fb84e894c0b12013f367.png')\n",
    "y_pred = tf.image.decode_png(y_pred, channels=3)\n",
    "one_hot_map = []\n",
    "for color in colors_list:\n",
    "    class_map = tf.reduce_all(tf.equal(y_pred,color), axis=-1)\n",
    "    one_hot_map.append(class_map)\n",
    "one_hot_map = one_hot_map[2]\n",
    "one_hot_map = tf.stack(one_hot_map, axis=-1)\n",
    "y_pred = tf.cast(one_hot_map, tf.float32)"
   ]
  },
  {
   "cell_type": "code",
   "execution_count": 55,
   "metadata": {},
   "outputs": [
    {
     "data": {
      "text/plain": [
       "<tf.Tensor: shape=(), dtype=float32, numpy=0.87183976>"
      ]
     },
     "execution_count": 55,
     "metadata": {},
     "output_type": "execute_result"
    }
   ],
   "source": [
    "dice_coef(y_true, y_pred)"
   ]
  },
  {
   "cell_type": "code",
   "execution_count": null,
   "metadata": {},
   "outputs": [],
   "source": []
  }
 ],
 "metadata": {
  "kernelspec": {
   "display_name": "Python 3",
   "language": "python",
   "name": "python3"
  },
  "language_info": {
   "codemirror_mode": {
    "name": "ipython",
    "version": 3
   },
   "file_extension": ".py",
   "mimetype": "text/x-python",
   "name": "python",
   "nbconvert_exporter": "python",
   "pygments_lexer": "ipython3",
   "version": "3.7.0"
  }
 },
 "nbformat": 4,
 "nbformat_minor": 4
}
